{
 "cells": [
  {
   "cell_type": "markdown",
   "metadata": {},
   "source": [
    "# Optimization Process"
   ]
  },
  {
   "cell_type": "markdown",
   "metadata": {},
   "source": [
    "### Load cases, run once at each load case"
   ]
  },
  {
   "cell_type": "markdown",
   "metadata": {},
   "source": [
    "It is suggested to run once with a specific load case you want to design and then just re run multiple times the cell below this one (the one where you change the thicknesses)"
   ]
  },
  {
   "cell_type": "code",
   "execution_count": 161,
   "metadata": {},
   "outputs": [],
   "source": [
    "from variables import *\n",
    "from wp4_2 import WingBox\n",
    "from wp4_1 import InternalForces\n",
    "\n",
    "# xflr_files = 'XFLRdata\\\\XFLR5sims'\n",
    "\n",
    "# # change these\n",
    "# aircraft_mass = 35688\n",
    "# alt_sound_speed = 296.56\n",
    "\n",
    "# internal_forces = InternalForces(aircraft_mass=aircraft_mass, load_factor= -1, sound_speed=alt_sound_speed, half_chord_sweep= hchord_sweep, fus_radius=fus_radius, density=rho0, airspeed= airspeed, \n",
    "#                                  c_r= c_r, wingspan= b, engine_z_loc= engine_z_loc, engine_length= engine_length, x_hl= x_hl, x_lemac= x_lemac, MAC= MAC, \n",
    "#                                  one_engine_thrust= one_engine_thrust, fan_cowl_diameter= fan_cowl_diameter, c_t= c_r*tr)\n",
    "    \n",
    "    \n",
    "# shear_list, moment_list, torque_list, axial_list, g_shear, g_moment, g_torque, g_axial = internal_forces.force_diagrams(engine_mass=engine_mass, wing_box_length=wing_box_length, \n",
    "#                                         fuel_tank_length=fuel_tank_length, fuel_density=fuel_density)\n",
    "\n",
    "# internal_forces.show(engine_mass=engine_mass, wing_box_length=wing_box_length, fuel_tank_length=fuel_tank_length, fuel_density=fuel_density)"
   ]
  },
  {
   "cell_type": "code",
   "execution_count": 133,
   "metadata": {},
   "outputs": [],
   "source": []
  },
  {
   "cell_type": "code",
   "execution_count": null,
   "metadata": {},
   "outputs": [],
   "source": [
    "# Functions for the critical load cases are being saved here!!!!!!!\n",
    "import pickle\n",
    "\"\"\"\n",
    "# Save all lists in a dictionary\n",
    "all_lists = {\"list1\": shear_list, \"list2\": moment_list, \"list3\": torque_list, \"list4\": axial_list} # positive load factor\n",
    "\n",
    "# Write to a file\n",
    "with open(\"lists.pkl\", \"wb\") as f:\n",
    "    pickle.dump(all_lists, f)\n",
    "    \n",
    "\"\"\"\n",
    "\n",
    "# negative_load_factor = {\"list1\": shear_list, \"list2\": moment_list, \"list3\": torque_list, \"list4\": axial_list}\n",
    "\n",
    "# # Write to a file\n",
    "# with open(\"lists_negative.pkl\", \"wb\") as f:\n",
    "#     pickle.dump(negative_load_factor, f)\n"
   ]
  },
  {
   "cell_type": "code",
   "execution_count": 163,
   "metadata": {},
   "outputs": [],
   "source": [
    "from scipy.interpolate import interp1d\n",
    "import numpy as np\n",
    "\n",
    "# Functions for the critical load cases are being called here!!!!!!!\n",
    "# with open(\"lists.pkl\", \"rb\") as f:\n",
    "#     loaded_lists = pickle.load(f)\n",
    "\n",
    "# with open(\"lists_negative.pkl\", \"rb\") as g:\n",
    "#     negative_loaded_lists = pickle.load(g)\n",
    "\n",
    "# z_points = np.linspace(0, 26.9 / 2, 1000)\n",
    "\n",
    "\n",
    "# if LOADFACTOR > 0:\n",
    "#     g_shear = interp1d(z_points, loaded_lists[\"list1\"], kind='cubic', fill_value=\"extrapolate\")\n",
    "#     g_moment = interp1d(z_points, loaded_lists[\"list2\"], kind='cubic', fill_value=\"extrapolate\")\n",
    "#     g_torque = interp1d(z_points, loaded_lists[\"list3\"], kind='cubic', fill_value=\"extrapolate\")\n",
    "#     g_axial = interp1d(z_points, loaded_lists[\"list4\"], kind='cubic', fill_value=\"extrapolate\")\n",
    "# elif LOADFACTOR < 0:\n",
    "#     g_shear = interp1d(z_points, negative_loaded_lists[\"list1\"], kind='cubic', fill_value=\"extrapolate\")\n",
    "#     g_moment = interp1d(z_points, negative_loaded_lists[\"list2\"], kind='cubic', fill_value=\"extrapolate\")\n",
    "#     g_torque = interp1d(z_points, negative_loaded_lists[\"list3\"], kind='cubic', fill_value=\"extrapolate\")\n",
    "#     g_axial = interp1d(z_points, negative_loaded_lists[\"list4\"], kind='cubic', fill_value=\"extrapolate\")\n",
    "#     print(moment_list)\n",
    "# else:\n",
    "#     print(\"invalid input\")"
   ]
  },
  {
   "cell_type": "markdown",
   "metadata": {},
   "source": [
    "Now defining the wingbox, you can finally change the thicknesses here!"
   ]
  },
  {
   "cell_type": "markdown",
   "metadata": {},
   "source": [
    "# Plotting"
   ]
  },
  {
   "cell_type": "code",
   "execution_count": 164,
   "metadata": {},
   "outputs": [],
   "source": [
    "import matplotlib.pyplot as plt\n",
    "import pandas as pd"
   ]
  },
  {
   "cell_type": "code",
   "execution_count": 165,
   "metadata": {},
   "outputs": [],
   "source": [
    "design1 = pd.read_csv('deflections/option8-1.csv')\n",
    "design2 = pd.read_csv('deflections/option5-1.csv')\n",
    "\n",
    "design3 = pd.read_csv('deflections/option9-1.csv')"
   ]
  },
  {
   "cell_type": "code",
   "execution_count": null,
   "metadata": {},
   "outputs": [],
   "source": [
    "plt.plot(design1['z location [m]'], design1['Area Moment of Inertia [mm^4]'], label='Design 1: I stringers')\n",
    "plt.plot(design2['z location [m]'], design2['Area Moment of Inertia [mm^4]'], label='Design 2: I stringers')\n",
    "plt.plot(design3['z location [m]'], design3['Area Moment of Inertia [mm^4]'], label='Design 3: L stringers')\n",
    "plt.xlabel('Span wise position [m]')\n",
    "plt.ylabel(r'Area moment of inertia [m$^4$]')\n",
    "plt.grid()\n",
    "plt.legend()\n",
    "#plt.tight_layout()\n",
    "plt.savefig('Areamomentofinertia.svg')\n",
    "plt.show()"
   ]
  },
  {
   "cell_type": "code",
   "execution_count": null,
   "metadata": {},
   "outputs": [],
   "source": [
    "import matplotlib.pyplot as plt\n",
    "import numpy as np\n",
    "wingspan_og = 26.9\n",
    "\n",
    "plt.figure(figsize=(5, 5))\n",
    "plt.plot(design1['z location [m]'], design1['Rotation [deg]'], label= 'Design 1')\n",
    "plt.plot(design2['z location [m]'], design2['Rotation [deg]'], label= 'Design 2')\n",
    "plt.plot(design3['z location [m]'], design3['Rotation [deg]'], label= 'Design 3')\n",
    "plt.axhline(y = np.sign(design1['Rotation [deg]'].iloc[-1])*10, color = 'r', linestyle = '-', lw= 1, dashes=[2, 2], label='Max Allowed')\n",
    "plt.xlabel(\"Span wise position [m]\")\n",
    "plt.ylabel(\"Wing tip rotation [deg]\")\n",
    "plt.ylim(-10.5, 0.5)\n",
    "plt.grid()\n",
    "plt.legend()\n",
    "plt.tight_layout()\n",
    "plt.savefig('designs\\\\g-1rotation.svg')\n",
    "plt.show()\n"
   ]
  },
  {
   "cell_type": "code",
   "execution_count": null,
   "metadata": {},
   "outputs": [],
   "source": [
    "plt.figure(figsize=(5, 5))\n",
    "plt.plot(design1['z location [m]'], design1['Displacement [m]'], label='Design 1')\n",
    "plt.plot(design2['z location [m]'], design2['Displacement [m]'], label='Design 2')\n",
    "plt.plot(design3['z location [m]'], design3['Displacement [m]'], label='Design 3')\n",
    "\n",
    "plt.axhline(y = np.sign(design1['Displacement [m]'].iloc[-1])*0.15*wingspan_og, color = 'r', linestyle = '-', lw= 1, dashes=[2, 2], label='Max Allowed')\n",
    "\n",
    "plt.xlabel(\"Span wise position [m]\")\n",
    "plt.ylabel(\"Wing tip displacement [m]\")\n",
    "plt.grid()\n",
    "plt.legend()\n",
    "plt.tight_layout()\n",
    "plt.savefig('designs\\\\g-1displacement.svg')\n",
    "plt.show()"
   ]
  },
  {
   "cell_type": "markdown",
   "metadata": {},
   "source": [
    "# Work Package 5"
   ]
  },
  {
   "cell_type": "markdown",
   "metadata": {},
   "source": [
    "### Finally working on wp5, no need to run the previous cells, start running from here yay!"
   ]
  },
  {
   "cell_type": "code",
   "execution_count": 4,
   "metadata": {},
   "outputs": [],
   "source": [
    "LOADFACTOR = 2.5"
   ]
  },
  {
   "cell_type": "code",
   "execution_count": 5,
   "metadata": {},
   "outputs": [],
   "source": [
    "from scipy.interpolate import interp1d\n",
    "import numpy as np\n",
    "import pickle\n",
    "\n",
    "# Functions for the critical load cases are being called here!!!!!!!\n",
    "with open(\"lists.pkl\", \"rb\") as f:\n",
    "    loaded_lists = pickle.load(f)\n",
    "\n",
    "with open(\"lists_negative.pkl\", \"rb\") as g:\n",
    "    negative_loaded_lists = pickle.load(g)\n",
    "\n",
    "z_points = np.linspace(0, 26.9 / 2, 1000)\n",
    "\n",
    "\n",
    "if LOADFACTOR > 0:\n",
    "    g_shear = interp1d(z_points, loaded_lists[\"list1\"], kind='cubic', fill_value=\"extrapolate\")\n",
    "    g_moment = interp1d(z_points, loaded_lists[\"list2\"], kind='cubic', fill_value=\"extrapolate\")\n",
    "    g_torque = interp1d(z_points, loaded_lists[\"list3\"], kind='cubic', fill_value=\"extrapolate\")\n",
    "    g_axial = interp1d(z_points, loaded_lists[\"list4\"], kind='cubic', fill_value=\"extrapolate\")\n",
    "elif LOADFACTOR < 0:\n",
    "    g_shear = interp1d(z_points, negative_loaded_lists[\"list1\"], kind='cubic', fill_value=\"extrapolate\")\n",
    "    g_moment = interp1d(z_points, negative_loaded_lists[\"list2\"], kind='cubic', fill_value=\"extrapolate\")\n",
    "    g_torque = interp1d(z_points, negative_loaded_lists[\"list3\"], kind='cubic', fill_value=\"extrapolate\")\n",
    "    g_axial = interp1d(z_points, negative_loaded_lists[\"list4\"], kind='cubic', fill_value=\"extrapolate\")\n",
    "    #print(moment_list)\n",
    "else:\n",
    "    print(\"invalid input\")\n",
    "    "
   ]
  },
  {
   "cell_type": "code",
   "execution_count": 6,
   "metadata": {},
   "outputs": [
    {
     "name": "stdout",
     "output_type": "stream",
     "text": [
      "Wing span modified goes from 0 to 12.08\n",
      "Max Tip Displacement OK Displacement = 2.301573636051115 8.556035821751358 (% Wingspan)\n",
      "Wing Tip Max. Rotation Allowed Max displacement = 3.9868935720684218\n",
      "The steinerarea now is: 0.00024 m2\n"
     ]
    }
   ],
   "source": [
    "from wp4_2 import WingBox\n",
    "from variables import *\n",
    "\n",
    "t_caps = 0.004\n",
    "t_spar = 0.008\n",
    "area_factor = 12\n",
    "wingbox = WingBox(c_r= c_r, c_t = None, wingspan=b, area_factor_flanges=area_factor, \n",
    "                  intersection= intersection, tr= tr, t_spar= t_spar, t_caps= t_spar)\n",
    "\n",
    "dimensions = {'base': 40e-3, 'height': 40e-3, 'thickness base': 3e-3, 'thickness height': 3e-3}\n",
    "stringers = [20, 1, 'L', dimensions]\n",
    " \n",
    "wingbox.show(wingbox.z, loads= [g_moment, g_torque], moduli= [E, G], stringers= stringers, limits=[0, 10], plot= False, degrees= True, \n",
    "             save=False, filename=None)\n",
    "# if you wanna save the plot just set save=True and put some filename.png i.e. filename= 'thickness2.png'\n",
    "area_stringer = dimensions['base']*dimensions['thickness base'] + dimensions['height']*dimensions['thickness height']\n",
    "\n",
    "print(f'The steinerarea now is: {area_stringer} m2')"
   ]
  },
  {
   "cell_type": "code",
   "execution_count": 7,
   "metadata": {},
   "outputs": [
    {
     "data": {
      "image/png": "[encoded data removed]",
      "text/plain": [
       "<Figure size 640x480 with 1 Axes>"
      ]
     },
     "metadata": {},
     "output_type": "display_data"
    },
    {
     "data": {
      "image/png": "[encoded data removed]",
      "text/plain": [
       "<Figure size 640x480 with 1 Axes>"
      ]
     },
     "metadata": {},
     "output_type": "display_data"
    },
    {
     "data": {
      "image/png": "[encoded data removed]",
      "text/plain": [
       "<Figure size 640x480 with 1 Axes>"
      ]
     },
     "metadata": {},
     "output_type": "display_data"
    },
    {
     "data": {
      "text/plain": [
       "(array([0.11653275, 0.11344624, 0.11040237, 0.1073744 , 0.10435669,\n",
       "        0.1013466 , 0.09834257, 0.09534356, 0.09234885, 0.08935789,\n",
       "        0.08637026, 0.08338562, 0.0804037 , 0.07742426, 0.07444711,\n",
       "        0.07147209, 0.06849906, 0.06552789, 0.06255846, 0.05959069,\n",
       "        0.05662447, 0.05365974, 0.05069642, 0.04773445, 0.04477377,\n",
       "        0.04181432, 0.03885605]),\n",
       " array([14.9683142 ,  7.32345361,  7.30425549,  7.30425549,  7.30425549,\n",
       "         7.30425549,  7.30425549,  7.30425549,  7.30425549,  7.30425549,\n",
       "         7.30425549,  7.30425549,  7.30425549,  7.30425549,  7.30425549,\n",
       "         7.30425549,  7.30425549,  7.30425549,  7.30425549,  7.30425549,\n",
       "         7.30425549,  7.30425549,  7.30425549,  7.30425549,  7.30425549,\n",
       "         7.30425549,  7.30425549]))"
      ]
     },
     "execution_count": 7,
     "metadata": {},
     "output_type": "execute_result"
    },
    {
     "data": {
      "text/plain": [
       "<Figure size 640x480 with 0 Axes>"
      ]
     },
     "metadata": {},
     "output_type": "display_data"
    }
   ],
   "source": [
    "from wp5_1 import SkinBuckling, area_crosssection\n",
    "n_ribs = 27\n",
    "t_front = 0.001\n",
    "t_rear = 0.003\n",
    "skin = SkinBuckling(n_ribs=n_ribs, E = E, wingbox_geometry=wingbox.geometry, wingspan=wingbox.wingspan, v= 0.33, M = g_moment, N= g_axial, \n",
    "                    I_tot = wingbox.MOM_total, t_caps=t_caps, stringers= stringers, area=area_crosssection, chord= wingbox.chord, \n",
    "                    flange = area_factor, sigma_yield= tsY, compressive_yield = sigmaComp, t_front = t_front, t_rear = t_rear)\n",
    "# if you want a ceiling in the graph so to see you actually surpass the 1 mos mark insert ceiling = True, \n",
    "# power value is used to concentrate the ribs more at the root\n",
    "skin.show(ceiling = True, concentration=0)\n",
    "skin.skin_Ks(concentration= 0.01)"
   ]
  },
  {
   "cell_type": "code",
   "execution_count": 9,
   "metadata": {},
   "outputs": [
    {
     "ename": "TypeError",
     "evalue": "SparWebBuckling.__init__() missing 6 required positional arguments: 'chord', 'sigmayield', 'area', 't_caps', 'stringers', and 'area_factor'",
     "output_type": "error",
     "traceback": [
      "\u001b[1;31m---------------------------------------------------------------------------\u001b[0m",
      "\u001b[1;31mTypeError\u001b[0m                                 Traceback (most recent call last)",
      "Cell \u001b[1;32mIn[9], line 4\u001b[0m\n\u001b[0;32m      2\u001b[0m t_front \u001b[38;5;241m=\u001b[39m \u001b[38;5;241m7e-3\u001b[39m\n\u001b[0;32m      3\u001b[0m t_rear \u001b[38;5;241m=\u001b[39m \u001b[38;5;241m8e-3\u001b[39m\n\u001b[1;32m----> 4\u001b[0m spar \u001b[38;5;241m=\u001b[39m \u001b[43mSparWebBuckling\u001b[49m\u001b[43m(\u001b[49m\u001b[43mwingbox_geometry\u001b[49m\u001b[38;5;241;43m=\u001b[39;49m\u001b[43mwingbox\u001b[49m\u001b[38;5;241;43m.\u001b[39;49m\u001b[43mgeometry\u001b[49m\u001b[43m,\u001b[49m\u001b[43m \u001b[49m\u001b[43mwingspan\u001b[49m\u001b[38;5;241;43m=\u001b[39;49m\u001b[43mwingbox\u001b[49m\u001b[38;5;241;43m.\u001b[39;49m\u001b[43mwingspan\u001b[49m\u001b[43m,\u001b[49m\u001b[43m \u001b[49m\u001b[43mE\u001b[49m\u001b[38;5;241;43m=\u001b[39;49m\u001b[43m \u001b[49m\u001b[43mE\u001b[49m\u001b[43m,\u001b[49m\u001b[43m \u001b[49m\u001b[43mpois\u001b[49m\u001b[43m \u001b[49m\u001b[38;5;241;43m=\u001b[39;49m\u001b[43m \u001b[49m\u001b[38;5;241;43m0.33\u001b[39;49m\u001b[43m,\u001b[49m\u001b[43m \u001b[49m\u001b[43mt_front\u001b[49m\u001b[38;5;241;43m=\u001b[39;49m\u001b[43m \u001b[49m\u001b[43mt_front\u001b[49m\u001b[43m,\u001b[49m\u001b[43m \u001b[49m\u001b[43mt_rear\u001b[49m\u001b[38;5;241;43m=\u001b[39;49m\u001b[43mt_rear\u001b[49m\u001b[43m,\u001b[49m\u001b[43m \u001b[49m\n\u001b[0;32m      5\u001b[0m \u001b[43m                       \u001b[49m\u001b[43mk_v\u001b[49m\u001b[38;5;241;43m=\u001b[39;49m\u001b[43m \u001b[49m\u001b[38;5;241;43m1.5\u001b[39;49m\u001b[43m)\u001b[49m\n\u001b[0;32m      6\u001b[0m spar\u001b[38;5;241m.\u001b[39mmargin_of_safety(z\u001b[38;5;241m=\u001b[39m\u001b[38;5;241m1\u001b[39m, V\u001b[38;5;241m=\u001b[39m g_shear, T\u001b[38;5;241m=\u001b[39mg_torque)\n\u001b[0;32m      8\u001b[0m spar\u001b[38;5;241m.\u001b[39mshow_mos(V\u001b[38;5;241m=\u001b[39m g_shear, T\u001b[38;5;241m=\u001b[39m g_torque, choice \u001b[38;5;241m=\u001b[39m \u001b[38;5;124m'\u001b[39m\u001b[38;5;124mfront\u001b[39m\u001b[38;5;124m'\u001b[39m)\n",
      "\u001b[1;31mTypeError\u001b[0m: SparWebBuckling.__init__() missing 6 required positional arguments: 'chord', 'sigmayield', 'area', 't_caps', 'stringers', and 'area_factor'"
     ]
    }
   ],
   "source": [
    "from wp5_1 import SparWebBuckling, area_crosssection\n",
    "t_front = 7e-3\n",
    "t_rear = 8e-3\n",
    "spar = SparWebBuckling(wingbox_geometry=wingbox.geometry, wingspan=wingbox.wingspan, E= E, pois = 0.33, t_front= t_front, t_rear=t_rear, \n",
    "                       k_v= 1.5)\n",
    "spar.margin_of_safety(z=1, V= g_shear, T=g_torque)\n",
    "\n",
    "spar.show_mos(V= g_shear, T= g_torque, choice = 'front')"
   ]
  },
  {
   "cell_type": "code",
   "execution_count": null,
   "metadata": {},
   "outputs": [],
   "source": [
    "from wp5_1 import Stringer_bucklin\n",
    "\n",
    "stringer = Stringer_bucklin(stringers=stringers, wingspan= wingbox.wingspan, M=g_moment, N=g_axial, I_tot=wingbox.MOM_total, area=Area_crosssection, flange=area_factor,\n",
    "                            t_caps=t_caps, t_spar= t_spar, chord= wingbox.chord, geometry= wingbox.geometry, n_ribs=n_ribs)\n",
    "\n",
    "stringer.graph_buckling_values(E=E)\n",
    "stringer.MOS_buckling_values(E=E, stringers=stringers)"
   ]
  },
  {
   "cell_type": "code",
   "execution_count": null,
   "metadata": {},
   "outputs": [],
   "source": [
    "from wp5_1 import Area_crosssection\n",
    "from wp4_2 import WingBox\n",
    "from variables import *\n",
    "import matplotlib.pyplot as plt\n",
    "\n",
    "# t_caps = 0.008\n",
    "# t_spar = 0.008\n",
    "\n",
    "# area_factor = 12\n",
    "\n",
    "wingbox = WingBox(c_r= c_r, c_t = None, wingspan=b, area_factor_flanges=area_factor, intersection= intersection, tr= tr, t_spar= t_spar, t_caps= t_caps)\n",
    "\n",
    "#stringers = [24, 1, 'L', {'base': 30e-3, 'height': 30e-3, 'thickness base': 2e-3, 'thickness height': 2e-3}]\n",
    "\n",
    "def x_func(z):\n",
    "    return 0 * z\n",
    "\n",
    "def y_func(z):\n",
    "\n",
    "    if LOADFACTOR > 0: \n",
    "        y_loc = wingbox.geometry(2*z/b)[0] / 2\n",
    "    else:\n",
    "        y_loc = -wingbox.geometry(2*z/b)[0] / 2\n",
    "    return y_loc\n",
    "\n",
    "def Ixx_func(z):\n",
    "    return wingbox.MOM_total(2*z/b, stringers=stringers)[0]\n",
    "\n",
    "def Iyy_func(z):\n",
    "    return wingbox.MOM_total(2*z/b, stringers=stringers)[1]\n",
    "\n",
    "def Ixy_func(z):\n",
    "    return 0 * 2* z/b\n",
    "\n",
    "def Mx_func(z):\n",
    "    return g_moment(z)\n",
    "\n",
    "def My_func(z):\n",
    "    return 0 * z\n",
    "\n",
    "def Ax_func(z):\n",
    "    return g_axial(z)\n",
    "\n",
    "def Area_func(z):\n",
    "    return Area_crosssection(wingbox.chord, wingbox.geometry, z, area_factor, t_spar, t_caps, stringers)\n",
    "\n",
    "print(wingbox.MOM_total(z=0, stringers=stringers)[0])\n",
    "\n",
    "def stress_z(Mx_func, My_func, Ax_func, Ixx_func, Iyy_func, Ixy_func, Area_func, z, x, y):\n",
    "\n",
    "    # Evaluate the moment and inertia functions at spanwise location z\n",
    "    Mx = Mx_func(z)\n",
    "    My = My_func(z)\n",
    "    Ixx = Ixx_func(z)\n",
    "    Iyy = Iyy_func(z)\n",
    "    Ixy = Ixy_func(z)\n",
    "    Ax = Ax_func(z)\n",
    "    A_func = Area_func(z)\n",
    "\n",
    "    # Calculate numerator and denominator\n",
    "    numerator = (Mx * Iyy - My * Ixy) * y + (My * Ixx - Mx * Ixy) * x\n",
    "    denominator = Ixx * Iyy - Ixy**2\n",
    "\n",
    "    # division by zero?\n",
    "    if denominator == 0:\n",
    "        raise ValueError(\"Denominator is zero. Check inertia values.\")\n",
    "\n",
    "    # Calculate normal stress\n",
    "    sigma_z = (numerator / denominator) + (Ax/A_func)\n",
    "    return sigma_z\n",
    "\n",
    "def calculate_stress_distribution(z_points, x_func, y_func, Mx_func, My_func, Ax_func, Ixx_func, Iyy_func, Ixy_func, Area_func):\n",
    "    \"\"\"\n",
    "    Calculate the normal stress distribution along the wing span.\n",
    "    \"\"\"\n",
    "    stress_distribution = []\n",
    "    for z in z_points:\n",
    "        x = x_func(z)\n",
    "        y = y_func(z)\n",
    "        sigma_z = stress_z(Mx_func, My_func, Ax_func, Ixx_func, Iyy_func, Ixy_func, Area_func, z, x, y)\n",
    "        stress_distribution.append(sigma_z * 1.5)\n",
    "\n",
    "        # print(y)\n",
    "        # print(Mx_func(z))\n",
    "        #print(Ixx_func(z))\n",
    "\n",
    "    return np.array(stress_distribution)\n",
    "\n",
    "def main():\n",
    "    # Define spanwise locations\n",
    "    z_points = np.linspace(0, b/2, 100)  # Wing span from 0 to 10 meters\n",
    "\n",
    "    # Calculate stress distribution\n",
    "    stress_distribution = calculate_stress_distribution(\n",
    "        z_points=z_points,\n",
    "        x_func=x_func,\n",
    "        y_func=y_func,\n",
    "        Mx_func=Mx_func,\n",
    "        My_func= My_func,  # Assuming same moment for simplicity\n",
    "        Ax_func=Ax_func,\n",
    "        Ixx_func=Ixx_func,\n",
    "        Iyy_func=Iyy_func,\n",
    "        Ixy_func=Ixy_func,\n",
    "        Area_func=Area_func\n",
    "    )\n",
    "\n",
    "    # Find critical stress\n",
    "    # max_stress = max(stress_distribution)\n",
    "    # critical_z = z_points[np.argmax(stress_distribution)]\n",
    "    # print(f\"Maximum Normal Stress: {max_stress:.2f} Pa at Spanwise Location: {critical_z:.2f} m\")\n",
    "\n",
    "    # Plot stress distribution\n",
    "    plt.figure(figsize=(12, 6))\n",
    "    plt.plot(z_points, stress_distribution/ 1e6, label=\"Normal Stress Distribution\", color=\"blue\")\n",
    "    plt.axhline(0, color=\"black\", linewidth=0.8)\n",
    "    plt.xlabel(\"Spanwise Location (z) [m]\", fontsize=12)\n",
    "    plt.ylabel(\"Normal Stress [MPa]\", fontsize=12)\n",
    "    plt.title(\"Normal Stress Distribution Along the Wing Span\", fontsize=14)\n",
    "    plt.grid(True)\n",
    "    plt.legend()\n",
    "    plt.show()\n",
    "\n",
    "    def margin_of_safety(): # z = location along span\n",
    "        margin_of_safety = 440000000/stress_distribution\n",
    "        return margin_of_safety # should be greater than 1 everywhere, otherwise expect failure, can come close to 1 tho not lower\n",
    "\n",
    "    MOS_tens_tab = []\n",
    "    z_tab = []\n",
    "\n",
    "    def graph_tension_MOS():\n",
    "        z_values = np.linspace(1, 26.9/2, 1000)\n",
    "        i=0\n",
    "        print(t_caps, t_spar, area_factor)\n",
    "        \n",
    "        for z in z_points:\n",
    "            MOS_tens_tab.append(margin_of_safety()[i])\n",
    "            z_tab.append(z)\n",
    "            i+=1\n",
    "        plt.plot(z_points, MOS_tens_tab, label=\"Normal Stress Distribution\", color=\"blue\")\n",
    "        plt.axhline(y=1, color='r')\n",
    "        plt.title('Margin of safety factor visualization along wing')\n",
    "        plt.xlabel('Spanwise location')\n",
    "        plt.ylabel('Margin of safety')\n",
    "        plt.ylim(0, 8)  # Set the y-axis limits\n",
    "        plt.show()\n",
    "\n",
    "        print(Mx_func(0))\n",
    "\n",
    "    graph_tension_MOS() \n",
    "\n",
    "if __name__ == \"__main__\":\n",
    "    main()"
   ]
  },
  {
   "cell_type": "code",
   "execution_count": null,
   "metadata": {},
   "outputs": [],
   "source": []
  }
 ],
 "metadata": {
  "kernelspec": {
   "display_name": ".venv",
   "language": "python",
   "name": "python3"
  },
  "language_info": {
   "codemirror_mode": {
    "name": "ipython",
    "version": 3
   },
   "file_extension": ".py",
   "mimetype": "text/x-python",
   "name": "python",
   "nbconvert_exporter": "python",
   "pygments_lexer": "ipython3",
   "version": "3.10.4"
  }
 },
 "nbformat": 4,
 "nbformat_minor": 2
}
