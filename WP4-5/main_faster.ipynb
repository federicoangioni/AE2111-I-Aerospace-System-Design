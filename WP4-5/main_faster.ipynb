{
 "cells": [
  {
   "cell_type": "markdown",
   "metadata": {},
   "source": [
    "# Optimization Process"
   ]
  },
  {
   "cell_type": "markdown",
   "metadata": {},
   "source": [
    "### Load cases, run once at each load case"
   ]
  },
  {
   "cell_type": "markdown",
   "metadata": {},
   "source": [
    "It is suggested to run once with a specific load case you want to design and then just re run multiple times the cell below this one (the one where you change the thicknesses)"
   ]
  },
  {
   "cell_type": "code",
   "execution_count": 161,
   "metadata": {},
   "outputs": [],
   "source": [
    "from variables import *\n",
    "from wp4_2 import WingBox\n",
    "from wp4_1 import InternalForces\n",
    "\n",
    "# xflr_files = 'XFLRdata\\\\XFLR5sims'\n",
    "\n",
    "# # change these\n",
    "# aircraft_mass = 35688\n",
    "# alt_sound_speed = 296.56\n",
    "\n",
    "# internal_forces = InternalForces(aircraft_mass=aircraft_mass, load_factor= -1, sound_speed=alt_sound_speed, half_chord_sweep= hchord_sweep, fus_radius=fus_radius, density=rho0, airspeed= airspeed, \n",
    "#                                  c_r= c_r, wingspan= b, engine_z_loc= engine_z_loc, engine_length= engine_length, x_hl= x_hl, x_lemac= x_lemac, MAC= MAC, \n",
    "#                                  one_engine_thrust= one_engine_thrust, fan_cowl_diameter= fan_cowl_diameter, c_t= c_r*tr)\n",
    "    \n",
    "    \n",
    "# shear_list, moment_list, torque_list, axial_list, g_shear, g_moment, g_torque, g_axial = internal_forces.force_diagrams(engine_mass=engine_mass, wing_box_length=wing_box_length, \n",
    "#                                         fuel_tank_length=fuel_tank_length, fuel_density=fuel_density)\n",
    "\n",
    "# internal_forces.show(engine_mass=engine_mass, wing_box_length=wing_box_length, fuel_tank_length=fuel_tank_length, fuel_density=fuel_density)"
   ]
  },
  {
   "cell_type": "code",
   "execution_count": 133,
   "metadata": {},
   "outputs": [],
   "source": []
  },
  {
   "cell_type": "code",
   "execution_count": null,
   "metadata": {},
   "outputs": [],
   "source": [
    "# Functions for the critical load cases are being saved here!!!!!!!\n",
    "import pickle\n",
    "\"\"\"\n",
    "# Save all lists in a dictionary\n",
    "all_lists = {\"list1\": shear_list, \"list2\": moment_list, \"list3\": torque_list, \"list4\": axial_list} # positive load factor\n",
    "\n",
    "# Write to a file\n",
    "with open(\"lists.pkl\", \"wb\") as f:\n",
    "    pickle.dump(all_lists, f)\n",
    "    \n",
    "\"\"\"\n",
    "\n",
    "# negative_load_factor = {\"list1\": shear_list, \"list2\": moment_list, \"list3\": torque_list, \"list4\": axial_list}\n",
    "\n",
    "# # Write to a file\n",
    "# with open(\"lists_negative.pkl\", \"wb\") as f:\n",
    "#     pickle.dump(negative_load_factor, f)\n"
   ]
  },
  {
   "cell_type": "code",
   "execution_count": 163,
   "metadata": {},
   "outputs": [],
   "source": [
    "from scipy.interpolate import interp1d\n",
    "import numpy as np\n",
    "\n",
    "# Functions for the critical load cases are being called here!!!!!!!\n",
    "# with open(\"lists.pkl\", \"rb\") as f:\n",
    "#     loaded_lists = pickle.load(f)\n",
    "\n",
    "# with open(\"lists_negative.pkl\", \"rb\") as g:\n",
    "#     negative_loaded_lists = pickle.load(g)\n",
    "\n",
    "# z_points = np.linspace(0, 26.9 / 2, 1000)\n",
    "\n",
    "\n",
    "# if LOADFACTOR > 0:\n",
    "#     g_shear = interp1d(z_points, loaded_lists[\"list1\"], kind='cubic', fill_value=\"extrapolate\")\n",
    "#     g_moment = interp1d(z_points, loaded_lists[\"list2\"], kind='cubic', fill_value=\"extrapolate\")\n",
    "#     g_torque = interp1d(z_points, loaded_lists[\"list3\"], kind='cubic', fill_value=\"extrapolate\")\n",
    "#     g_axial = interp1d(z_points, loaded_lists[\"list4\"], kind='cubic', fill_value=\"extrapolate\")\n",
    "# elif LOADFACTOR < 0:\n",
    "#     g_shear = interp1d(z_points, negative_loaded_lists[\"list1\"], kind='cubic', fill_value=\"extrapolate\")\n",
    "#     g_moment = interp1d(z_points, negative_loaded_lists[\"list2\"], kind='cubic', fill_value=\"extrapolate\")\n",
    "#     g_torque = interp1d(z_points, negative_loaded_lists[\"list3\"], kind='cubic', fill_value=\"extrapolate\")\n",
    "#     g_axial = interp1d(z_points, negative_loaded_lists[\"list4\"], kind='cubic', fill_value=\"extrapolate\")\n",
    "#     print(moment_list)\n",
    "# else:\n",
    "#     print(\"invalid input\")"
   ]
  },
  {
   "cell_type": "markdown",
   "metadata": {},
   "source": [
    "Now defining the wingbox, you can finally change the thicknesses here!"
   ]
  },
  {
   "cell_type": "markdown",
   "metadata": {},
   "source": [
    "# Plotting"
   ]
  },
  {
   "cell_type": "code",
   "execution_count": 164,
   "metadata": {},
   "outputs": [],
   "source": [
    "import matplotlib.pyplot as plt\n",
    "import pandas as pd"
   ]
  },
  {
   "cell_type": "code",
   "execution_count": 165,
   "metadata": {},
   "outputs": [],
   "source": [
    "design1 = pd.read_csv('deflections/option8-1.csv')\n",
    "design2 = pd.read_csv('deflections/option5-1.csv')\n",
    "\n",
    "design3 = pd.read_csv('deflections/option9-1.csv')"
   ]
  },
  {
   "cell_type": "code",
   "execution_count": null,
   "metadata": {},
   "outputs": [],
   "source": [
    "plt.plot(design1['z location [m]'], design1['Area Moment of Inertia [mm^4]'], label='Design 1: I stringers')\n",
    "plt.plot(design2['z location [m]'], design2['Area Moment of Inertia [mm^4]'], label='Design 2: I stringers')\n",
    "plt.plot(design3['z location [m]'], design3['Area Moment of Inertia [mm^4]'], label='Design 3: L stringers')\n",
    "plt.xlabel('Span wise position [m]')\n",
    "plt.ylabel(r'Area moment of inertia [m$^4$]')\n",
    "plt.grid()\n",
    "plt.legend()\n",
    "#plt.tight_layout()\n",
    "plt.savefig('Areamomentofinertia.svg')\n",
    "plt.show()"
   ]
  },
  {
   "cell_type": "code",
   "execution_count": null,
   "metadata": {},
   "outputs": [],
   "source": [
    "import matplotlib.pyplot as plt\n",
    "import numpy as np\n",
    "wingspan_og = 26.9\n",
    "\n",
    "plt.figure(figsize=(5, 5))\n",
    "plt.plot(design1['z location [m]'], design1['Rotation [deg]'], label= 'Design 1')\n",
    "plt.plot(design2['z location [m]'], design2['Rotation [deg]'], label= 'Design 2')\n",
    "plt.plot(design3['z location [m]'], design3['Rotation [deg]'], label= 'Design 3')\n",
    "plt.axhline(y = np.sign(design1['Rotation [deg]'].iloc[-1])*10, color = 'r', linestyle = '-', lw= 1, dashes=[2, 2], label='Max Allowed')\n",
    "plt.xlabel(\"Span wise position [m]\")\n",
    "plt.ylabel(\"Wing tip rotation [deg]\")\n",
    "plt.ylim(-10.5, 0.5)\n",
    "plt.grid()\n",
    "plt.legend()\n",
    "plt.tight_layout()\n",
    "plt.savefig('designs\\\\g-1rotation.svg')\n",
    "plt.show()\n"
   ]
  },
  {
   "cell_type": "code",
   "execution_count": null,
   "metadata": {},
   "outputs": [],
   "source": [
    "plt.figure(figsize=(5, 5))\n",
    "plt.plot(design1['z location [m]'], design1['Displacement [m]'], label='Design 1')\n",
    "plt.plot(design2['z location [m]'], design2['Displacement [m]'], label='Design 2')\n",
    "plt.plot(design3['z location [m]'], design3['Displacement [m]'], label='Design 3')\n",
    "\n",
    "plt.axhline(y = np.sign(design1['Displacement [m]'].iloc[-1])*0.15*wingspan_og, color = 'r', linestyle = '-', lw= 1, dashes=[2, 2], label='Max Allowed')\n",
    "\n",
    "plt.xlabel(\"Span wise position [m]\")\n",
    "plt.ylabel(\"Wing tip displacement [m]\")\n",
    "plt.grid()\n",
    "plt.legend()\n",
    "plt.tight_layout()\n",
    "plt.savefig('designs\\\\g-1displacement.svg')\n",
    "plt.show()"
   ]
  },
  {
   "cell_type": "markdown",
   "metadata": {},
   "source": [
    "# Work Package 5"
   ]
  },
  {
   "cell_type": "markdown",
   "metadata": {},
   "source": [
    "### Finally working on wp5, no need to run the previous cells, start running from here yay!"
   ]
  },
  {
   "cell_type": "code",
   "execution_count": 1,
   "metadata": {},
   "outputs": [],
   "source": [
    "LOADFACTOR = 2.5"
   ]
  },
  {
   "cell_type": "code",
   "execution_count": 2,
   "metadata": {},
   "outputs": [],
   "source": [
    "from scipy.interpolate import interp1d\n",
    "import numpy as np\n",
    "import pickle\n",
    "\n",
    "# Functions for the critical load cases are being called here!!!!!!!\n",
    "with open(\"lists.pkl\", \"rb\") as f:\n",
    "    loaded_lists = pickle.load(f)\n",
    "\n",
    "with open(\"lists_negative.pkl\", \"rb\") as g:\n",
    "    negative_loaded_lists = pickle.load(g)\n",
    "\n",
    "z_points = np.linspace(0, 26.9 / 2, 1000)\n",
    "\n",
    "\n",
    "if LOADFACTOR > 0:\n",
    "    g_shear = interp1d(z_points, loaded_lists[\"list1\"], kind='cubic', fill_value=\"extrapolate\")\n",
    "    g_moment = interp1d(z_points, loaded_lists[\"list2\"], kind='cubic', fill_value=\"extrapolate\")\n",
    "    g_torque = interp1d(z_points, loaded_lists[\"list3\"], kind='cubic', fill_value=\"extrapolate\")\n",
    "    g_axial = interp1d(z_points, loaded_lists[\"list4\"], kind='cubic', fill_value=\"extrapolate\")\n",
    "elif LOADFACTOR < 0:\n",
    "    g_shear = interp1d(z_points, negative_loaded_lists[\"list1\"], kind='cubic', fill_value=\"extrapolate\")\n",
    "    g_moment = interp1d(z_points, negative_loaded_lists[\"list2\"], kind='cubic', fill_value=\"extrapolate\")\n",
    "    g_torque = interp1d(z_points, negative_loaded_lists[\"list3\"], kind='cubic', fill_value=\"extrapolate\")\n",
    "    g_axial = interp1d(z_points, negative_loaded_lists[\"list4\"], kind='cubic', fill_value=\"extrapolate\")\n",
    "    #print(moment_list)\n",
    "else:\n",
    "    print(\"invalid input\")\n",
    "    "
   ]
  },
  {
   "cell_type": "code",
   "execution_count": null,
   "metadata": {},
   "outputs": [],
   "source": [
    "from wp4_2 import WingBox\n",
    "from variables import *\n",
    "\n",
    "t_caps = 0.004\n",
    "t_spar = 0.008\n",
    "area_factor = 12\n",
    "wingbox = WingBox(c_r= c_r, c_t = None, wingspan=b, area_factor_flanges=area_factor, \n",
    "                  intersection= intersection, tr= tr, t_spar= t_spar, t_caps= t_spar)\n",
    "\n",
    "dimensions = {'base': 40e-3, 'height': 40e-3, 'thickness base': 4e-3, 'thickness height': 4e-3}\n",
    "stringers = [20, 1, 'L', dimensions]\n",
    " \n",
    "wingbox.show(wingbox.z, loads= [g_moment, g_torque], moduli= [E, G], stringers= stringers, limits=[0, 10], plot= False, degrees= True, \n",
    "             save=False, filename=None)\n",
    "# if you wanna save the plot just set save=True and put some filename.png i.e. filename= 'thickness2.png'\n",
    "area_stringer = dimensions['base']*dimensions['thickness base'] + dimensions['height']*dimensions['thickness height']\n",
    "\n",
    "print(f'The steinerarea now is: {area_stringer} m2')"
   ]
  },
  {
   "cell_type": "code",
   "execution_count": null,
   "metadata": {},
   "outputs": [],
   "source": [
    "from wp5_1 import SkinBuckling, area_crosssection\n",
    "n_ribs = 27\n",
    "t_front = 0.001\n",
    "t_rear = 0.003\n",
    "skin = SkinBuckling(n_ribs=n_ribs, E = E, wingbox_geometry=wingbox.geometry, wingspan=wingbox.wingspan, v= 0.33, M = g_moment, N= g_axial, \n",
    "                    I_tot = wingbox.MOM_total, t_caps=t_caps, stringers= stringers, area=area_crosssection, chord= wingbox.chord, \n",
    "                    flange = area_factor, sigma_yield= tsY, compressive_yield = sigmaComp, t_front = t_front, t_rear = t_rear)\n",
    "# if you want a ceiling in the graph so to see you actually surpass the 1 mos mark insert ceiling = True, \n",
    "# power value is used to concentrate the ribs more at the root\n",
    "skin.show(ceiling = True, concentration=0)\n",
    "skin.skin_Ks(concentration= 0.01)"
   ]
  },
  {
   "cell_type": "code",
   "execution_count": null,
   "metadata": {},
   "outputs": [],
   "source": [
    "from wp5_1 import SparWebBuckling, area_crosssection\n",
    "t_front = 7e-3\n",
    "t_rear = 8e-3\n",
    "\n",
    "spar = SparWebBuckling(wingbox_geometry=wingbox.geometry, wingspan=wingbox.wingspan, E= E, pois = 0.33, t_front= t_front, t_rear=t_rear, \n",
    "                       k_v= 1.5, I_tot=wingbox.MOM_total, sigmayield=tsY, sigmacomp= sigmaComp, area= area_crosssection, t_caps = t_caps, stringers=stringers, area_factor=area_factor, M = g_moment, N = g_axial)\n",
    "spar.margin_of_safety(z=1, V= g_shear, T=g_torque)\n",
    "\n",
    "spar.show_mos_buckling(V= g_shear, T= g_torque, choice = 'front')\n",
    "\n",
    "spar.show_mos_normal(choice = 'front')"
   ]
  },
  {
   "cell_type": "code",
   "execution_count": null,
   "metadata": {},
   "outputs": [],
   "source": [
    "from wp5_1 import Stringer_bucklin\n",
    "\n",
    "stringer = Stringer_bucklin(stringers=stringers, wingspan= wingbox.wingspan, M=g_moment, N=g_axial, I_tot=wingbox.MOM_total, area=area_crosssection, flange=area_factor,\n",
    "                            t_caps=t_caps, t_front=t_front, t_rear = t_rear, chord= wingbox.chord, geometry= wingbox.geometry, n_ribs=n_ribs, compressive_yield=sigmaComp,\n",
    "                            tensile_yield=tsY)\n",
    "\n",
    "stringer.graph_buckling_values(E=E)\n",
    "stringer.MOS_buckling_values1(E=E, stringers=stringers)"
   ]
  },
  {
   "cell_type": "code",
   "execution_count": null,
   "metadata": {},
   "outputs": [],
   "source": []
  }
 ],
 "metadata": {
  "kernelspec": {
   "display_name": ".venv",
   "language": "python",
   "name": "python3"
  },
  "language_info": {
   "codemirror_mode": {
    "name": "ipython",
    "version": 3
   },
   "file_extension": ".py",
   "mimetype": "text/x-python",
   "name": "python",
   "nbconvert_exporter": "python",
   "pygments_lexer": "ipython3",
   "version": "3.10.4"
  }
 },
 "nbformat": 4,
 "nbformat_minor": 2
}
